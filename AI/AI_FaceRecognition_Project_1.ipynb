{
  "nbformat": 4,
  "nbformat_minor": 0,
  "metadata": {
    "colab": {
      "name": "AI FaceRecognition Project-1.ipynb",
      "provenance": [],
      "collapsed_sections": []
    },
    "kernelspec": {
      "name": "python3",
      "display_name": "Python 3"
    },
    "accelerator": "GPU"
  },
  "cells": [
    {
      "cell_type": "code",
      "metadata": {
        "id": "1dMOwwQYRAiN"
      },
      "source": [
        "# Project-1 : Face Recognition"
      ],
      "execution_count": null,
      "outputs": []
    },
    {
      "cell_type": "code",
      "metadata": {
        "id": "kbtBQUFcZ3DF"
      },
      "source": [
        "# Download haarcascade_frontalface_default.xml\n",
        "# https://raw.githubusercontent.com/opencv/opencv/master/data/haarcascades/haarcascade_frontalface_default.xml"
      ],
      "execution_count": null,
      "outputs": []
    },
    {
      "cell_type": "code",
      "metadata": {
        "id": "hiOnh0rOaHAh"
      },
      "source": [
        "import cv2, glob"
      ],
      "execution_count": null,
      "outputs": []
    },
    {
      "cell_type": "code",
      "metadata": {
        "id": "FJJbomk_aSOx"
      },
      "source": [
        "gImage = glob.glob(\"*.jpeg\")"
      ],
      "execution_count": null,
      "outputs": []
    },
    {
      "cell_type": "code",
      "metadata": {
        "id": "Yr0q-h-5t9gr"
      },
      "source": [
        "!mkdir -p /root/.kaggle\r\n",
        "!mv RG.jpg /root/.kaggle"
      ],
      "execution_count": null,
      "outputs": []
    },
    {
      "cell_type": "code",
      "metadata": {
        "id": "4raXmRGLavih"
      },
      "source": [
        "detection = cv2.CascadeClassifier(\"haarcascade_frontalface_default.xml\")"
      ],
      "execution_count": null,
      "outputs": []
    },
    {
      "cell_type": "code",
      "metadata": {
        "id": "5KDdqkqCavmZ"
      },
      "source": [
        "for tImage in gImage:\n",
        "    image = cv2.imread(tImage)\n",
        "    greyImage = cv2.cvtColor(image, cv2.COLOR_BGR2GRAY )\n",
        "    face = detection.detectMultiScale(greyImage, 1.25)  # Smaller the scaleFactor value (1.25) then greater the accuracy\n",
        "    for (x,y,w,h) in face:  # x-length, y-bredth, w-width, h-height\n",
        "       cv2.rectangle(image,(x,y), (x+w, y+h), (0,255,0),2)\n",
        "       cv2.imshow(\"Detecting Image :\", image)\n",
        "       cv2.waitKey(2000)\n",
        "       cv2.destroyAllWindows()"
      ],
      "execution_count": null,
      "outputs": []
    },
    {
      "cell_type": "code",
      "metadata": {
        "id": "IHYkavLnjrDS"
      },
      "source": [
        ""
      ],
      "execution_count": null,
      "outputs": []
    }
  ]
}