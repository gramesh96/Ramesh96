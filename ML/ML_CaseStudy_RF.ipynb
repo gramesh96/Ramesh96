{
  "nbformat": 4,
  "nbformat_minor": 0,
  "metadata": {
    "colab": {
      "name": "ML CaseStudy-RF.ipynb",
      "provenance": [],
      "collapsed_sections": []
    },
    "kernelspec": {
      "name": "python3",
      "display_name": "Python 3"
    }
  },
  "cells": [
    {
      "cell_type": "code",
      "metadata": {
        "id": "uaBBqo7y6Ngn"
      },
      "source": [
        "# Random Forest Case Study"
      ],
      "execution_count": null,
      "outputs": []
    },
    {
      "cell_type": "code",
      "metadata": {
        "id": "2BqcYzPb6d1S"
      },
      "source": [
        "import pandas as pd\r\n",
        "import numpy as np\r\n",
        "import matplotlib.pyplot as plt\r\n",
        "from sklearn.model_selection import train_test_split\r\n",
        "from sklearn.ensemble import RandomForestClassifier\r\n",
        "from sklearn.metrics import confusion_matrix, accuracy_score"
      ],
      "execution_count": null,
      "outputs": []
    },
    {
      "cell_type": "code",
      "metadata": {
        "colab": {
          "base_uri": "https://localhost:8080/",
          "height": 224
        },
        "id": "Y9-lG8tw6d7X",
        "outputId": "7f224c73-d1e9-4f59-efde-961a9db589e3"
      },
      "source": [
        "# Read the .csv file and understand the structure of the dataset\r\n",
        "\r\n",
        "medData = pd.read_csv(\"CTG.csv\")\r\n",
        "medData.head()"
      ],
      "execution_count": null,
      "outputs": [
        {
          "output_type": "execute_result",
          "data": {
            "text/html": [
              "<div>\n",
              "<style scoped>\n",
              "    .dataframe tbody tr th:only-of-type {\n",
              "        vertical-align: middle;\n",
              "    }\n",
              "\n",
              "    .dataframe tbody tr th {\n",
              "        vertical-align: top;\n",
              "    }\n",
              "\n",
              "    .dataframe thead th {\n",
              "        text-align: right;\n",
              "    }\n",
              "</style>\n",
              "<table border=\"1\" class=\"dataframe\">\n",
              "  <thead>\n",
              "    <tr style=\"text-align: right;\">\n",
              "      <th></th>\n",
              "      <th>LB</th>\n",
              "      <th>AC</th>\n",
              "      <th>FM</th>\n",
              "      <th>UC</th>\n",
              "      <th>DL</th>\n",
              "      <th>DS</th>\n",
              "      <th>DP</th>\n",
              "      <th>ASTV</th>\n",
              "      <th>MSTV</th>\n",
              "      <th>ALTV</th>\n",
              "      <th>MLTV</th>\n",
              "      <th>Width</th>\n",
              "      <th>Min</th>\n",
              "      <th>Max</th>\n",
              "      <th>Nmax</th>\n",
              "      <th>Nzeros</th>\n",
              "      <th>Mode</th>\n",
              "      <th>Mean</th>\n",
              "      <th>Median</th>\n",
              "      <th>Variance</th>\n",
              "      <th>Tendency</th>\n",
              "      <th>NSP</th>\n",
              "    </tr>\n",
              "  </thead>\n",
              "  <tbody>\n",
              "    <tr>\n",
              "      <th>0</th>\n",
              "      <td>120</td>\n",
              "      <td>0.000000</td>\n",
              "      <td>0.0</td>\n",
              "      <td>0.000000</td>\n",
              "      <td>0.000000</td>\n",
              "      <td>0.0</td>\n",
              "      <td>0.0</td>\n",
              "      <td>73</td>\n",
              "      <td>0.5</td>\n",
              "      <td>43</td>\n",
              "      <td>2.4</td>\n",
              "      <td>64</td>\n",
              "      <td>62</td>\n",
              "      <td>126</td>\n",
              "      <td>2</td>\n",
              "      <td>0</td>\n",
              "      <td>120</td>\n",
              "      <td>137</td>\n",
              "      <td>121</td>\n",
              "      <td>73</td>\n",
              "      <td>1</td>\n",
              "      <td>2</td>\n",
              "    </tr>\n",
              "    <tr>\n",
              "      <th>1</th>\n",
              "      <td>132</td>\n",
              "      <td>0.006380</td>\n",
              "      <td>0.0</td>\n",
              "      <td>0.006380</td>\n",
              "      <td>0.003190</td>\n",
              "      <td>0.0</td>\n",
              "      <td>0.0</td>\n",
              "      <td>17</td>\n",
              "      <td>2.1</td>\n",
              "      <td>0</td>\n",
              "      <td>10.4</td>\n",
              "      <td>130</td>\n",
              "      <td>68</td>\n",
              "      <td>198</td>\n",
              "      <td>6</td>\n",
              "      <td>1</td>\n",
              "      <td>141</td>\n",
              "      <td>136</td>\n",
              "      <td>140</td>\n",
              "      <td>12</td>\n",
              "      <td>0</td>\n",
              "      <td>1</td>\n",
              "    </tr>\n",
              "    <tr>\n",
              "      <th>2</th>\n",
              "      <td>133</td>\n",
              "      <td>0.003322</td>\n",
              "      <td>0.0</td>\n",
              "      <td>0.008306</td>\n",
              "      <td>0.003322</td>\n",
              "      <td>0.0</td>\n",
              "      <td>0.0</td>\n",
              "      <td>16</td>\n",
              "      <td>2.1</td>\n",
              "      <td>0</td>\n",
              "      <td>13.4</td>\n",
              "      <td>130</td>\n",
              "      <td>68</td>\n",
              "      <td>198</td>\n",
              "      <td>5</td>\n",
              "      <td>1</td>\n",
              "      <td>141</td>\n",
              "      <td>135</td>\n",
              "      <td>138</td>\n",
              "      <td>13</td>\n",
              "      <td>0</td>\n",
              "      <td>1</td>\n",
              "    </tr>\n",
              "    <tr>\n",
              "      <th>3</th>\n",
              "      <td>134</td>\n",
              "      <td>0.002561</td>\n",
              "      <td>0.0</td>\n",
              "      <td>0.007682</td>\n",
              "      <td>0.002561</td>\n",
              "      <td>0.0</td>\n",
              "      <td>0.0</td>\n",
              "      <td>16</td>\n",
              "      <td>2.4</td>\n",
              "      <td>0</td>\n",
              "      <td>23.0</td>\n",
              "      <td>117</td>\n",
              "      <td>53</td>\n",
              "      <td>170</td>\n",
              "      <td>11</td>\n",
              "      <td>0</td>\n",
              "      <td>137</td>\n",
              "      <td>134</td>\n",
              "      <td>137</td>\n",
              "      <td>13</td>\n",
              "      <td>1</td>\n",
              "      <td>1</td>\n",
              "    </tr>\n",
              "    <tr>\n",
              "      <th>4</th>\n",
              "      <td>132</td>\n",
              "      <td>0.006515</td>\n",
              "      <td>0.0</td>\n",
              "      <td>0.008143</td>\n",
              "      <td>0.000000</td>\n",
              "      <td>0.0</td>\n",
              "      <td>0.0</td>\n",
              "      <td>16</td>\n",
              "      <td>2.4</td>\n",
              "      <td>0</td>\n",
              "      <td>19.9</td>\n",
              "      <td>117</td>\n",
              "      <td>53</td>\n",
              "      <td>170</td>\n",
              "      <td>9</td>\n",
              "      <td>0</td>\n",
              "      <td>137</td>\n",
              "      <td>136</td>\n",
              "      <td>138</td>\n",
              "      <td>11</td>\n",
              "      <td>1</td>\n",
              "      <td>1</td>\n",
              "    </tr>\n",
              "  </tbody>\n",
              "</table>\n",
              "</div>"
            ],
            "text/plain": [
              "    LB        AC   FM        UC  ...  Median  Variance  Tendency  NSP\n",
              "0  120  0.000000  0.0  0.000000  ...     121        73         1    2\n",
              "1  132  0.006380  0.0  0.006380  ...     140        12         0    1\n",
              "2  133  0.003322  0.0  0.008306  ...     138        13         0    1\n",
              "3  134  0.002561  0.0  0.007682  ...     137        13         1    1\n",
              "4  132  0.006515  0.0  0.008143  ...     138        11         1    1\n",
              "\n",
              "[5 rows x 22 columns]"
            ]
          },
          "metadata": {
            "tags": []
          },
          "execution_count": 3
        }
      ]
    },
    {
      "cell_type": "code",
      "metadata": {
        "colab": {
          "base_uri": "https://localhost:8080/",
          "height": 265
        },
        "id": "TJ2In2Mu6d-U",
        "outputId": "1819988f-1172-413f-f3f9-13b1b5d4eab5"
      },
      "source": [
        "# Make a scatter-plot between ‘ASTV’ & ‘MSTV’ columns\r\n",
        "\r\n",
        "x = medData[\"ASTV\"]\r\n",
        "y = medData[\"MSTV\"]\r\n",
        "\r\n",
        "plt.scatter(x,y)\r\n",
        "plt.show()\r\n"
      ],
      "execution_count": null,
      "outputs": [
        {
          "output_type": "display_data",
          "data": {
            "image/png": "[encoded data removed]",
            "text/plain": [
              "<Figure size 432x288 with 1 Axes>"
            ]
          },
          "metadata": {
            "tags": [],
            "needs_background": "light"
          }
        }
      ]
    },
    {
      "cell_type": "code",
      "metadata": {
        "id": "235Mm8HT9K1n"
      },
      "source": [
        "# Take the ‘ASTV’ column as the independent variable and ‘NSP’ column as the dependent variable\r\n",
        "\r\n",
        "x = medData[\"ASTV\"]\r\n",
        "y = medData[\"NSP\"]"
      ],
      "execution_count": null,
      "outputs": []
    },
    {
      "cell_type": "code",
      "metadata": {
        "colab": {
          "base_uri": "https://localhost:8080/"
        },
        "id": "KujV27nk9K5-",
        "outputId": "28574663-077a-4432-b8a4-bcbad2e2d1af"
      },
      "source": [
        "# Divide the data into ‘train’ and ‘test’ sets with test size to be 30%\r\n",
        "\r\n",
        "x_train, x_test, y_train, y_test = train_test_split(x,y, test_size=0.3, random_state=1)\r\n",
        "x_train.shape, x_test.shape, y_train.shape, y_test.shape\r\n"
      ],
      "execution_count": null,
      "outputs": [
        {
          "output_type": "execute_result",
          "data": {
            "text/plain": [
              "((1488,), (638,), (1488,), (638,))"
            ]
          },
          "metadata": {
            "tags": []
          },
          "execution_count": 21
        }
      ]
    },
    {
      "cell_type": "code",
      "metadata": {
        "colab": {
          "base_uri": "https://localhost:8080/"
        },
        "id": "np4yDrp5CTGm",
        "outputId": "d6ae4480-723f-4ce0-b554-3a1fe03b3caa"
      },
      "source": [
        "x_train = np.array(x_train).reshape(-1,1)\r\n",
        "y_train = np.array(y_train).reshape(-1,1)\r\n",
        "x_test = np.array(x_test).reshape(-1,1)\r\n",
        "y_test = np.array(y_test).reshape(-1,1)\r\n",
        "x_train.shape, x_test.shape, y_train.shape, y_test.shape"
      ],
      "execution_count": null,
      "outputs": [
        {
          "output_type": "execute_result",
          "data": {
            "text/plain": [
              "((1488, 1), (638, 1), (1488, 1), (638, 1))"
            ]
          },
          "metadata": {
            "tags": []
          },
          "execution_count": 22
        }
      ]
    },
    {
      "cell_type": "code",
      "metadata": {
        "colab": {
          "base_uri": "https://localhost:8080/"
        },
        "id": "UO2cbLFXAdmM",
        "outputId": "fcac6ec0-7e2c-41bf-be7e-74ae762b55c3"
      },
      "source": [
        "# x_train = np.expand_dims(x_train, axis=1)\r\n",
        "# x_test = np.expand_dims(x_test, axis=1)\r\n",
        "# y_train = np.expand_dims(y_train, axis=1)\r\n",
        "# y_test = np.expand_dims(y_test, axis=1)\r\n",
        "\r\n",
        "# x_train.shape, x_test.shape, y_train.shape, y_test.shape"
      ],
      "execution_count": null,
      "outputs": [
        {
          "output_type": "execute_result",
          "data": {
            "text/plain": [
              "((1488, 1), (638, 1), (1488, 1), (638, 1))"
            ]
          },
          "metadata": {
            "tags": []
          },
          "execution_count": 12
        }
      ]
    },
    {
      "cell_type": "code",
      "metadata": {
        "colab": {
          "base_uri": "https://localhost:8080/"
        },
        "id": "_p-ZG-Xc_3ai",
        "outputId": "9f0c6cbf-2190-4e3b-851e-4dbab2eac0dd"
      },
      "source": [
        "# # Build the random forest classifier on the train set, where the numbers of\r\n",
        "# estimators are 300. Then predict the values on the test set\r\n",
        "\r\n",
        "rfc = RandomForestClassifier(n_estimators=300)\r\n",
        "rfc.fit(x_train, y_train)"
      ],
      "execution_count": null,
      "outputs": [
        {
          "output_type": "stream",
          "text": [
            "/usr/local/lib/python3.6/dist-packages/ipykernel_launcher.py:5: DataConversionWarning: A column-vector y was passed when a 1d array was expected. Please change the shape of y to (n_samples,), for example using ravel().\n",
            "  \"\"\"\n"
          ],
          "name": "stderr"
        },
        {
          "output_type": "execute_result",
          "data": {
            "text/plain": [
              "RandomForestClassifier(bootstrap=True, ccp_alpha=0.0, class_weight=None,\n",
              "                       criterion='gini', max_depth=None, max_features='auto',\n",
              "                       max_leaf_nodes=None, max_samples=None,\n",
              "                       min_impurity_decrease=0.0, min_impurity_split=None,\n",
              "                       min_samples_leaf=1, min_samples_split=2,\n",
              "                       min_weight_fraction_leaf=0.0, n_estimators=300,\n",
              "                       n_jobs=None, oob_score=False, random_state=None,\n",
              "                       verbose=0, warm_start=False)"
            ]
          },
          "metadata": {
            "tags": []
          },
          "execution_count": 24
        }
      ]
    },
    {
      "cell_type": "code",
      "metadata": {
        "id": "M-XJyw6GBfWj"
      },
      "source": [
        "y_predRF = rfc.predict(x_test)"
      ],
      "execution_count": null,
      "outputs": []
    },
    {
      "cell_type": "code",
      "metadata": {
        "colab": {
          "base_uri": "https://localhost:8080/"
        },
        "id": "2LHmpGSR6eA4",
        "outputId": "d5169240-ac25-48ee-c965-205a2f96cd77"
      },
      "source": [
        "# Build a confusion matrix and also find out the accuracy of the model built.\r\n",
        "\r\n",
        "cmRF = confusion_matrix(y_test, y_predRF)\r\n",
        "print(\"Random Forest confusion matrix :\\n\",cmRF)\r\n",
        "\r\n",
        "aScoreRF = accuracy_score(y_test, y_predRF)\r\n",
        "print(\"Random Forest accuracy score :\",aScoreRF)"
      ],
      "execution_count": null,
      "outputs": [
        {
          "output_type": "stream",
          "text": [
            "Random Forest confusion matrix :\n",
            " [[466  17   7]\n",
            " [ 62  29   5]\n",
            " [ 26  17   9]]\n",
            "Random Forest accuracy score : 0.7899686520376176\n"
          ],
          "name": "stdout"
        }
      ]
    },
    {
      "cell_type": "code",
      "metadata": {
        "colab": {
          "base_uri": "https://localhost:8080/"
        },
        "id": "M245AInEDTE5",
        "outputId": "6eaaedc4-3865-43ea-8472-26f1b197f790"
      },
      "source": [
        "(466+29+9)/(466+29+9+17+7+62+5+26+17)"
      ],
      "execution_count": null,
      "outputs": [
        {
          "output_type": "execute_result",
          "data": {
            "text/plain": [
              "0.7899686520376176"
            ]
          },
          "metadata": {
            "tags": []
          },
          "execution_count": 27
        }
      ]
    },
    {
      "cell_type": "code",
      "metadata": {
        "id": "wBU-x8lpDTt1"
      },
      "source": [
        "# Take ‘LB’, ‘ASTV’, ‘MSTV’ and ‘Variance’ as the independent variables and ‘NSP’ as the\r\n",
        "# dependent variable\r\n",
        "\r\n",
        "X = medData[[\"LB\",\"ASTV\", \"MSTV\", \"Variance\"]]\r\n",
        "Y = medData[\"NSP\"]"
      ],
      "execution_count": null,
      "outputs": []
    },
    {
      "cell_type": "code",
      "metadata": {
        "colab": {
          "base_uri": "https://localhost:8080/"
        },
        "id": "Z-Nb-91IDTya",
        "outputId": "e83bc58b-f150-495a-b680-586a76a712bd"
      },
      "source": [
        "# Divide the data into ‘train’ & ‘test’ sets with test size to be 30%\r\n",
        "\r\n",
        "X_train, X_test, Y_train, Y_test = train_test_split(X,Y, test_size=0.3, random_state=1)\r\n",
        "X_train.shape, X_test.shape, Y_train.shape, Y_test.shape\r\n"
      ],
      "execution_count": null,
      "outputs": [
        {
          "output_type": "execute_result",
          "data": {
            "text/plain": [
              "((1488, 4), (638, 4), (1488,), (638,))"
            ]
          },
          "metadata": {
            "tags": []
          },
          "execution_count": 30
        }
      ]
    },
    {
      "cell_type": "code",
      "metadata": {
        "id": "8q_UU86ODbLB"
      },
      "source": [
        "# Build the random forest classifier on the train set, where the numbers of\r\n",
        "# estimators are 100. Then predict the values on the test set\r\n",
        "\r\n",
        "rfc = RandomForestClassifier(n_estimators=100)\r\n",
        "rfc.fit(X_train, Y_train)\r\n",
        "\r\n",
        "y_predRF1 = rfc.predict(X_test)"
      ],
      "execution_count": null,
      "outputs": []
    },
    {
      "cell_type": "code",
      "metadata": {
        "colab": {
          "base_uri": "https://localhost:8080/"
        },
        "id": "jAb2y_bwDbPH",
        "outputId": "da8715bf-defd-43a4-b72b-16315f2e3576"
      },
      "source": [
        "# Build a confusion matrix and also find out the accuracy of the model built\r\n",
        "\r\n",
        "cmRF = confusion_matrix(Y_test, y_predRF1)\r\n",
        "print(\"Random Forest confusion matrix :\\n\",cmRF)\r\n",
        "\r\n",
        "aScoreRF = accuracy_score(Y_test, y_predRF1)\r\n",
        "print(\"Random Forest accuracy score :\",aScoreRF)"
      ],
      "execution_count": null,
      "outputs": [
        {
          "output_type": "stream",
          "text": [
            "Random Forest confusion matrix :\n",
            " [[478   4   8]\n",
            " [ 32  58   6]\n",
            " [  6  11  35]]\n",
            "Random Forest accuracy score : 0.8949843260188087\n"
          ],
          "name": "stdout"
        }
      ]
    },
    {
      "cell_type": "code",
      "metadata": {
        "colab": {
          "base_uri": "https://localhost:8080/"
        },
        "id": "K_VwokNRF3yO",
        "outputId": "c48f0ed4-3a8a-420e-da72-07fa0f80a1af"
      },
      "source": [
        "(478+58+35)/(478+58+35+4+8+32+6+6+11)"
      ],
      "execution_count": null,
      "outputs": [
        {
          "output_type": "execute_result",
          "data": {
            "text/plain": [
              "0.8949843260188087"
            ]
          },
          "metadata": {
            "tags": []
          },
          "execution_count": 34
        }
      ]
    }
  ]
}