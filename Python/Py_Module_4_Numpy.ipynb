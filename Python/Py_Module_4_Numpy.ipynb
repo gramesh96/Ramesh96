{
  "nbformat": 4,
  "nbformat_minor": 0,
  "metadata": {
    "colab": {
      "name": "Py Module-4 Numpy Assignment.ipynb",
      "provenance": [],
      "collapsed_sections": []
    },
    "kernelspec": {
      "name": "python3",
      "display_name": "Python 3"
    }
  },
  "cells": [
    {
      "cell_type": "code",
      "metadata": {
        "id": "Jy57-faYaKLv"
      },
      "source": [
        "# 1. Create a function that takes dimensions as tuples e.g.(3, 3) and a numeric value and returns a \n",
        "# Numpy array of the given dimension filled with the given value e.g.: solve((3, 3), 5) will return\n",
        "# [ [5, 5, 5], [5, 5, 5], [5, 5, 5] ]"
      ],
      "execution_count": null,
      "outputs": []
    },
    {
      "cell_type": "code",
      "metadata": {
        "id": "ZAyu6qBThAwO"
      },
      "source": [
        "import numpy as np"
      ],
      "execution_count": null,
      "outputs": []
    },
    {
      "cell_type": "code",
      "metadata": {
        "id": "HOs9Gfc7bptS"
      },
      "source": [
        "def DimFunction(t, a):\n",
        "    print(t[0], t[1])\n",
        "    print(a)\n",
        "    arr = np.full((t[0],t[1]),a)\n",
        "    return arr"
      ],
      "execution_count": null,
      "outputs": []
    },
    {
      "cell_type": "code",
      "metadata": {
        "id": "jzQNVwMRbpwX",
        "colab": {
          "base_uri": "https://localhost:8080/"
        },
        "outputId": "9d089c84-e6f9-41c0-d182-1e4917991c40"
      },
      "source": [
        " tuple1 = (5,5)\n",
        " b = 10\n",
        " array1 = DimFunction(tuple1,b)\n",
        " array1"
      ],
      "execution_count": null,
      "outputs": [
        {
          "output_type": "stream",
          "text": [
            "5 5\n",
            "10\n"
          ],
          "name": "stdout"
        },
        {
          "output_type": "execute_result",
          "data": {
            "text/plain": [
              "array([[10, 10, 10, 10, 10],\n",
              "       [10, 10, 10, 10, 10],\n",
              "       [10, 10, 10, 10, 10],\n",
              "       [10, 10, 10, 10, 10],\n",
              "       [10, 10, 10, 10, 10]])"
            ]
          },
          "metadata": {
            "tags": []
          },
          "execution_count": 20
        }
      ]
    },
    {
      "cell_type": "code",
      "metadata": {
        "id": "7Qsi_UJef8Qx"
      },
      "source": [
        "# 2. Create a method that takes n Numpy arrays of same dimensions sums them and return the answer."
      ],
      "execution_count": null,
      "outputs": []
    },
    {
      "cell_type": "code",
      "metadata": {
        "id": "diPHKCnOf8aT"
      },
      "source": [
        "def sumMethod(params):\n",
        "     list1 = []\n",
        "     count = 0\n",
        "     length1 = len(params)\n",
        "     temp = params[count].ndim\n",
        "     while (count  < length1):\n",
        "       dim = params[count].ndim\n",
        "       if (temp == dim):\n",
        "          list1.append(params[count])\n",
        "       count +=1\n",
        "       temp = dim\n",
        "       \n",
        "     print(\"Size of the list  = \",len(list1))\n",
        "     sum1 = np.sum(list1)\n",
        "     return sum1"
      ],
      "execution_count": null,
      "outputs": []
    },
    {
      "cell_type": "code",
      "metadata": {
        "colab": {
          "base_uri": "https://localhost:8080/"
        },
        "id": "6Ih3Zr_CgfUH",
        "outputId": "579ec147-e0bc-4316-c552-c58780e512e2"
      },
      "source": [
        "array1 = np.array([[1,2,3],[4,5,6]])\n",
        "array2 = np.array([[10,12,13],[14,15,16]])\n",
        "array3 = np.array([[2,4,6],[8,10,12]])\n",
        "array4 = np.array([5,10,15])\n",
        "\n",
        "param = np.array([array1,array2,array3, array4])\n",
        "sumValue = sumMethod(param)\n",
        "print(\"Total Sum Value = \", sumValue) "
      ],
      "execution_count": null,
      "outputs": [
        {
          "output_type": "stream",
          "text": [
            "Size of the list  =  3\n",
            "Total Sum Value =  143\n"
          ],
          "name": "stdout"
        }
      ]
    },
    {
      "cell_type": "code",
      "metadata": {
        "id": "NpvJq6y7g_Xl"
      },
      "source": [
        "# 3. Given a 2 D Array of N X M Dimension, Write a function that accepts this array as well as two numbers N and M. \n",
        "# The method should return the top-left N X M sub matrix"
      ],
      "execution_count": null,
      "outputs": []
    },
    {
      "cell_type": "code",
      "metadata": {
        "id": "B3vls9ZkgfX_"
      },
      "source": [
        "def subMatrix(arr, n ,m):\n",
        "    array1 = arr[:n-1,:m-1]\n",
        "    print(array1)\n",
        "    return array1"
      ],
      "execution_count": null,
      "outputs": []
    },
    {
      "cell_type": "code",
      "metadata": {
        "colab": {
          "base_uri": "https://localhost:8080/"
        },
        "id": "GsWlz1wujltc",
        "outputId": "51d0d492-fc80-446e-e98a-dc3b13f481a8"
      },
      "source": [
        "sample = np.array([[1,2,5],[4,5,6],[7,8,9],[10,11,12]])\n",
        "print(\"Sample matrix dimension =\",sample.ndim, \"\\nSample shape =\",sample.shape[0])\n",
        "ret = subMatrix(sample,sample.shape[0], sample.shape[1])"
      ],
      "execution_count": null,
      "outputs": [
        {
          "output_type": "stream",
          "text": [
            "Sample matrix dimension = 2 \n",
            "Sample shape = 4\n",
            "[[1 2]\n",
            " [4 5]\n",
            " [7 8]]\n"
          ],
          "name": "stdout"
        }
      ]
    },
    {
      "cell_type": "code",
      "metadata": {
        "id": "Hwb_Lo3pjl9T"
      },
      "source": [
        "# 4. Given a 2 D Array of N X M Dimension, Write a function that accepts this array as well as two numbers N and M.\n",
        "# The method should return the bottom-right N X M sub matrix e.g.:"
      ],
      "execution_count": null,
      "outputs": []
    },
    {
      "cell_type": "code",
      "metadata": {
        "id": "WQw94IX9WH5Z"
      },
      "source": [
        "def twoDArray(arr,n, m):\n",
        "  print(\"In side function :\\n\",arr)\n",
        "  array1 = arr[n-2:,m-2:]\n",
        "  return array1"
      ],
      "execution_count": null,
      "outputs": []
    },
    {
      "cell_type": "code",
      "metadata": {
        "colab": {
          "base_uri": "https://localhost:8080/"
        },
        "id": "KZNuoTMaWH9M",
        "outputId": "a3dbdab5-b0cb-4624-88c4-74ee303eeb67"
      },
      "source": [
        "sample2 = np.array([[1,2,5],[4,5,6],[7,8,9],[10,11,12]])\n",
        "print(\"Sample2 matrix dimension =\",sample2.ndim, \"\\nSample2 shape =\",sample2.shape[0])\n",
        "retArray = twoDArray(sample2,sample2.shape[0], sample2.shape[1])\n",
        "print(\"\\n Bottom right N x M sub matrix  :\\n\",retArray)"
      ],
      "execution_count": null,
      "outputs": [
        {
          "output_type": "stream",
          "text": [
            "Sample2 matrix dimension = 2 \n",
            "Sample2 shape = 4\n",
            "In side function :\n",
            " [[ 1  2  5]\n",
            " [ 4  5  6]\n",
            " [ 7  8  9]\n",
            " [10 11 12]]\n",
            "\n",
            " Bottom right N x M sub matrix  :\n",
            " [[ 8  9]\n",
            " [11 12]]\n"
          ],
          "name": "stdout"
        }
      ]
    },
    {
      "cell_type": "code",
      "metadata": {
        "id": "tPFE3zN-ZD4C"
      },
      "source": [
        "# 5. Given a 1 D Numpy Array. Write a function that accepts this array as parameters. \n",
        "# The method should return a dictionary with 'mean' and 'std_dev' as key and array's mean and array's standard deviation as values:"
      ],
      "execution_count": null,
      "outputs": []
    },
    {
      "cell_type": "code",
      "metadata": {
        "id": "CTkCD65RZD7o"
      },
      "source": [
        "def oneDArray(arr):\n",
        "   mean = arr.mean()\n",
        "   std_dev = arr.std()\n",
        "   dict = {'mean': mean,'std_dev':std_dev}\n",
        "   return dict"
      ],
      "execution_count": null,
      "outputs": []
    },
    {
      "cell_type": "code",
      "metadata": {
        "colab": {
          "base_uri": "https://localhost:8080/"
        },
        "id": "uqelZWdiZIa3",
        "outputId": "39c5d2c6-be7b-400d-e0e0-2ab5134c6c96"
      },
      "source": [
        "sampleArray = np.array([1,2,5])\n",
        "returnDic = oneDArray(sampleArray)\n",
        "print(\"Returned Dictionary :\\n \",returnDic)"
      ],
      "execution_count": null,
      "outputs": [
        {
          "output_type": "stream",
          "text": [
            "Returned Dictionary :\n",
            "  {'mean': 2.6666666666666665, 'std_dev': 1.699673171197595}\n"
          ],
          "name": "stdout"
        }
      ]
    }
  ]
}