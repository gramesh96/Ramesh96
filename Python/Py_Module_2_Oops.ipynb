{
  "nbformat": 4,
  "nbformat_minor": 0,
  "metadata": {
    "colab": {
      "name": "Py Module-2 Oops Assign-1.ipynb",
      "provenance": [],
      "collapsed_sections": []
    },
    "kernelspec": {
      "name": "python3",
      "display_name": "Python 3"
    }
  },
  "cells": [
    {
      "cell_type": "code",
      "metadata": {
        "id": "jMsatNrxoTBP"
      },
      "source": [
        "# 1. Create a class name Employee, with a constructor ‘__init__’ method that accepts name and\n",
        "# salary as parameters and set properties named name and salary."
      ],
      "execution_count": null,
      "outputs": []
    },
    {
      "cell_type": "code",
      "metadata": {
        "id": "O_8A3meJo8Ka"
      },
      "source": [
        "class Employee():\n",
        "\n",
        "   def  __init__(self, name, salary):\n",
        "        self.name = name\n",
        "        self.salary = salary\n",
        "        print(\"Employee Name  :\" , name)\n",
        "        print(\"Employee Salary :\" , salary) "
      ],
      "execution_count": null,
      "outputs": []
    },
    {
      "cell_type": "code",
      "metadata": {
        "id": "YEDhHyDzo8OH",
        "colab": {
          "base_uri": "https://localhost:8080/"
        },
        "outputId": "478ad3f6-ea92-46dd-9c85-f4be115b8b99"
      },
      "source": [
        "emp = Employee(\"Ram\", 600)\n",
        "emp"
      ],
      "execution_count": null,
      "outputs": [
        {
          "output_type": "stream",
          "text": [
            "Employee Name  : Ram\n",
            "Employee Salary : 600\n"
          ],
          "name": "stdout"
        },
        {
          "output_type": "execute_result",
          "data": {
            "text/plain": [
              "<__main__.Employee at 0x7ff219163a90>"
            ]
          },
          "metadata": {
            "tags": []
          },
          "execution_count": 15
        }
      ]
    },
    {
      "cell_type": "code",
      "metadata": {
        "id": "YT66s1eSqCf3"
      },
      "source": [
        "# 2. Define __str__ method in Employee class so that when someone tries to print the object string\n",
        "#  Name: employee_name, Salary: employee_salary is printed with the actual employee name and salary."
      ],
      "execution_count": null,
      "outputs": []
    },
    {
      "cell_type": "code",
      "metadata": {
        "id": "HArNWLoiqCjb"
      },
      "source": [
        "class Employee():\n",
        "\n",
        "   def  __init__(self, name, salary):\n",
        "        self.name = name\n",
        "        self.salary = salary\n",
        "        \n",
        "   def __str__(self):\n",
        "        print(\"Employee Name  :\" , self.name)\n",
        "        print(\"Employee Salary :\" , self.salary) "
      ],
      "execution_count": null,
      "outputs": []
    },
    {
      "cell_type": "code",
      "metadata": {
        "colab": {
          "base_uri": "https://localhost:8080/"
        },
        "id": "aB__0976sBP3",
        "outputId": "cb56406f-2e7e-4bce-fc77-b13fddd622bc"
      },
      "source": [
        "emp2 = Employee(\"Ajay\", 500)\n",
        "print(emp2.__str__())"
      ],
      "execution_count": null,
      "outputs": [
        {
          "output_type": "stream",
          "text": [
            "Employee Name  : Ajay\n",
            "Employee Salary : 500\n",
            "None\n"
          ],
          "name": "stdout"
        }
      ]
    },
    {
      "cell_type": "code",
      "metadata": {
        "id": "6kxFV992sBTx"
      },
      "source": [
        "# 3. Create another class named Calculator, with methods to add, subtract, multiply and divide two numbers."
      ],
      "execution_count": null,
      "outputs": []
    },
    {
      "cell_type": "code",
      "metadata": {
        "id": "2qdLy_fKs8kb"
      },
      "source": [
        "class Calculator():\n",
        "  def add(self, a,b):\n",
        "      c = a+b\n",
        "      print(\"Add method :\",c)\n",
        "      \n",
        "  def subtract(self,a,b):\n",
        "      c = a-b\n",
        "      print(\"Subtract method :\",c)\n",
        "      \n",
        "  def multiply(self,a,b):\n",
        "      c = a*b\n",
        "      print(\"Multiplication method :\",c)\n",
        "      \n",
        "  def divide(self,a,b):\n",
        "      c = a/b\n",
        "      print(\"Divide method :\",c)\n",
        "     "
      ],
      "execution_count": null,
      "outputs": []
    },
    {
      "cell_type": "code",
      "metadata": {
        "colab": {
          "base_uri": "https://localhost:8080/"
        },
        "id": "Pn2JlfOPs8oI",
        "outputId": "7e42fc07-637f-44ce-8384-83e4ffe2ffa3"
      },
      "source": [
        "cal = Calculator()\n",
        "cal.add(10,2)\n",
        "cal.subtract(10,2)\n",
        "cal.multiply(10,2)\n",
        "cal.divide(10,2)"
      ],
      "execution_count": null,
      "outputs": [
        {
          "output_type": "stream",
          "text": [
            "Add method : 12\n",
            "Subtract method : 8\n",
            "Multiplication method : 20\n",
            "Divide method : 5.0\n"
          ],
          "name": "stdout"
        }
      ]
    },
    {
      "cell_type": "code",
      "metadata": {
        "id": "3JJGrF0hzZe7"
      },
      "source": [
        "# 6. Execute command takes in 3 parameters command which is string that can be either ‘add’, ‘sub’,\n",
        "# ‘mul’, ‘div’, and two numbers and it will call the appropriate method based on command parameter."
      ],
      "execution_count": null,
      "outputs": []
    },
    {
      "cell_type": "code",
      "metadata": {
        "id": "MkztQRR3zaGO"
      },
      "source": [
        "class Calculator():\n",
        "  def add(self,a,b):\n",
        "      c = a+b\n",
        "      print(\"Add method :\",c)\n",
        "      \n",
        "  def subtract(self,a,b):\n",
        "      c = a-b\n",
        "      print(\"Subtract method :\",c)\n",
        "      \n",
        "  def multiply(self,a,b):\n",
        "      c = a*b\n",
        "      print(\"Multiplication method :\",c)\n",
        "      \n",
        "  def divide(self,a,b):\n",
        "      c = a/b\n",
        "      print(\"Divide method :\",c)\n",
        "  \n",
        "  def executeCommand(self, str, a,b):\n",
        "      print(\"Command  =\",str)\n",
        "      if str == \"add\":\n",
        "         self.add(a,b)\n",
        "      elif str == \"subtract\":\n",
        "         self.subtract(a,b)\n",
        "      elif str == \"multiply\":\n",
        "         self.multiply(a,b)\n",
        "      elif str == \"divide\":\n",
        "         self.divide(a,b)"
      ],
      "execution_count": null,
      "outputs": []
    },
    {
      "cell_type": "code",
      "metadata": {
        "colab": {
          "base_uri": "https://localhost:8080/"
        },
        "id": "fqOPwXu1zrkq",
        "outputId": "859e94ce-e67e-4098-9593-46bcd32a4504"
      },
      "source": [
        "cal = Calculator()\n",
        "cal.executeCommand(\"add\", 20, 5)\n",
        "cal.executeCommand(\"subtract\", 20, 5)\n",
        "cal.executeCommand(\"multiply\", 20, 5)\n",
        "cal.executeCommand(\"divide\", 20, 5)"
      ],
      "execution_count": null,
      "outputs": [
        {
          "output_type": "stream",
          "text": [
            "Command  = add\n",
            "Add method : 25\n",
            "Command  = subtract\n",
            "Subtract method : 15\n",
            "Command  = multiply\n",
            "Multiplication method : 100\n",
            "Command  = divide\n",
            "Divide method : 4.0\n"
          ],
          "name": "stdout"
        }
      ]
    }
  ]
}