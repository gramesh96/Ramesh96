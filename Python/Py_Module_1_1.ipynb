{
  "nbformat": 4,
  "nbformat_minor": 0,
  "metadata": {
    "colab": {
      "name": "Py Module-1 Assignment-1.ipynb",
      "provenance": [],
      "collapsed_sections": []
    },
    "kernelspec": {
      "name": "python3",
      "display_name": "Python 3"
    }
  },
  "cells": [
    {
      "cell_type": "code",
      "metadata": {
        "id": "7aXFkDEZZ6ri"
      },
      "source": [
        "# Module-1 Assignment-1"
      ],
      "execution_count": null,
      "outputs": []
    },
    {
      "cell_type": "code",
      "metadata": {
        "id": "JkSw7cTVaPGw"
      },
      "source": [
        "# 1. Create a list containing squares of numbers from 1 to 10 (HINT: use List Comprehension)"
      ],
      "execution_count": null,
      "outputs": []
    },
    {
      "cell_type": "code",
      "metadata": {
        "colab": {
          "base_uri": "https://localhost:8080/"
        },
        "id": "QKroEs9oifKS",
        "outputId": "38ebe5ad-0749-4ecd-ceb3-10026eac62ae"
      },
      "source": [
        "square1 = [x*x for x in range(1,10)]\n",
        "\n",
        "print(square1)"
      ],
      "execution_count": null,
      "outputs": [
        {
          "output_type": "stream",
          "text": [
            "[1, 4, 9, 16, 25, 36, 49, 64, 81]\n"
          ],
          "name": "stdout"
        }
      ]
    },
    {
      "cell_type": "code",
      "metadata": {
        "id": "fB71OycQh1Ty"
      },
      "source": [
        "# 2. Write a Function to check if year number is a leap year."
      ],
      "execution_count": null,
      "outputs": []
    },
    {
      "cell_type": "code",
      "metadata": {
        "id": "3Dq2Tg1eijW3"
      },
      "source": [
        "def leapYear(year):\n",
        "  if year % 4 == 0:\n",
        "     return \"YES\"\n",
        "  else:\n",
        "     return \"NO\""
      ],
      "execution_count": null,
      "outputs": []
    },
    {
      "cell_type": "code",
      "metadata": {
        "colab": {
          "base_uri": "https://localhost:8080/"
        },
        "id": "GyAkswcVmnOS",
        "outputId": "65468178-6354-4fe8-b857-414158a3141f"
      },
      "source": [
        "year = 1999\n",
        "ly = leapYear(year)\n",
        "if ly == \"YES\":\n",
        "   print(\"Year {}  is leap year\".format(year))\n",
        "else:\n",
        "  print(\"Year {}  is not a leap year\".format(year))"
      ],
      "execution_count": null,
      "outputs": [
        {
          "output_type": "stream",
          "text": [
            "Year 1999  is not a leap year\n"
          ],
          "name": "stdout"
        }
      ]
    },
    {
      "cell_type": "code",
      "metadata": {
        "id": "HXLMxdbgqH8r"
      },
      "source": [
        "# 3. Write a Function to take an array and return another array that contains the members of first array that are even."
      ],
      "execution_count": null,
      "outputs": []
    },
    {
      "cell_type": "code",
      "metadata": {
        "id": "5ark8HhjqIAr"
      },
      "source": [
        "def evenArray(array1):\n",
        "  array2 = []\n",
        "  for x in array1:\n",
        "    if (array1[x-1] % 2) == 0 :\n",
        "       array2.append(array1[x-1])\n",
        "       print(\"Array2 Values   :\",array2)\n",
        "  return array2"
      ],
      "execution_count": null,
      "outputs": []
    },
    {
      "cell_type": "code",
      "metadata": {
        "colab": {
          "base_uri": "https://localhost:8080/"
        },
        "id": "L2Gu72ghqOuq",
        "outputId": "0fb1d5b3-a6d3-460d-9806-02840bffd94b"
      },
      "source": [
        "sample = [x for x in range(1,20)]\n",
        "print(sample)\n",
        "sample2 = evenArray(sample)\n",
        "print (\"Even Array values are : \",sample2)"
      ],
      "execution_count": null,
      "outputs": [
        {
          "output_type": "stream",
          "text": [
            "[1, 2, 3, 4, 5, 6, 7, 8, 9, 10, 11, 12, 13, 14, 15, 16, 17, 18, 19]\n",
            "Array2 Values   : [2]\n",
            "Array2 Values   : [2, 4]\n",
            "Array2 Values   : [2, 4, 6]\n",
            "Array2 Values   : [2, 4, 6, 8]\n",
            "Array2 Values   : [2, 4, 6, 8, 10]\n",
            "Array2 Values   : [2, 4, 6, 8, 10, 12]\n",
            "Array2 Values   : [2, 4, 6, 8, 10, 12, 14]\n",
            "Array2 Values   : [2, 4, 6, 8, 10, 12, 14, 16]\n",
            "Array2 Values   : [2, 4, 6, 8, 10, 12, 14, 16, 18]\n",
            "Even Array values are :  [2, 4, 6, 8, 10, 12, 14, 16, 18]\n"
          ],
          "name": "stdout"
        }
      ]
    },
    {
      "cell_type": "code",
      "metadata": {
        "id": "svuZP3FuqOzD"
      },
      "source": [
        "# 4. Write a Function that takes 2 arrays and prints the members of first array that are present of second array. (HINT: use Membership Comprehension)"
      ],
      "execution_count": null,
      "outputs": []
    },
    {
      "cell_type": "code",
      "metadata": {
        "id": "r724jkAFvEw1"
      },
      "source": [
        "def twoArrays1(array1, array2):\n",
        "  for x in array1:\n",
        "     if array1[x-1] in array2 :\n",
        "       print(\"Value present in second array  :\",array1[x-1])"
      ],
      "execution_count": null,
      "outputs": []
    },
    {
      "cell_type": "code",
      "metadata": {
        "id": "Pp-UNM04pdSK"
      },
      "source": [
        "def twoArrays(array1, array2):\n",
        "    values = [x for x in array1 if array1[x-1] in array2]\n",
        "    print(\"Value present in second array  :\",values)"
      ],
      "execution_count": null,
      "outputs": []
    },
    {
      "cell_type": "code",
      "metadata": {
        "colab": {
          "base_uri": "https://localhost:8080/"
        },
        "id": "KC0YYMNSm8BI",
        "outputId": "ed201128-598e-4417-cae0-c7bb3e829d46"
      },
      "source": [
        "array1 = [x for x in range(1,10)]\n",
        "array2 = [x for x in range(5,9)]\n",
        "print(\"Array1  :\",array1)\n",
        "print(\"Array2  :\",array2)\n",
        "twoArrays(array1, array2)"
      ],
      "execution_count": null,
      "outputs": [
        {
          "output_type": "stream",
          "text": [
            "Array1  : [1, 2, 3, 4, 5, 6, 7, 8, 9]\n",
            "Array2  : [5, 6, 7, 8]\n",
            "Value present in second array  : [5, 6, 7, 8]\n"
          ],
          "name": "stdout"
        }
      ]
    }
  ]
}