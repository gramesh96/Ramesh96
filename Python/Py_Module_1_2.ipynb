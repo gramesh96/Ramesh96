{
  "nbformat": 4,
  "nbformat_minor": 0,
  "metadata": {
    "colab": {
      "name": "Py Module-1 Assignment-2.ipynb",
      "provenance": [],
      "collapsed_sections": []
    },
    "kernelspec": {
      "name": "python3",
      "display_name": "Python 3"
    }
  },
  "cells": [
    {
      "cell_type": "code",
      "metadata": {
        "id": "02NkuXpCsN42"
      },
      "source": [
        "# Module-1 Assignment-2"
      ],
      "execution_count": null,
      "outputs": []
    },
    {
      "cell_type": "code",
      "metadata": {
        "id": "POnFDGheCBWg"
      },
      "source": [
        "# 1. Create 1st tuple with values -> (10,20,30), 2nd tuple with values -> (40,50,60)."
      ],
      "execution_count": null,
      "outputs": []
    },
    {
      "cell_type": "code",
      "metadata": {
        "colab": {
          "base_uri": "https://localhost:8080/"
        },
        "id": "UNF_Lws7CKm3",
        "outputId": "f40c8f5a-052a-4666-a040-842e17452d97"
      },
      "source": [
        "tuple1 = (10,20,30)\n",
        "tuple2 = (40,50,60)\n",
        "type (tuple2)"
      ],
      "execution_count": null,
      "outputs": [
        {
          "output_type": "execute_result",
          "data": {
            "text/plain": [
              "tuple"
            ]
          },
          "metadata": {
            "tags": []
          },
          "execution_count": 2
        }
      ]
    },
    {
      "cell_type": "code",
      "metadata": {
        "colab": {
          "base_uri": "https://localhost:8080/"
        },
        "id": "6aesy5sXCX7V",
        "outputId": "c4fd1678-8742-4fce-97bb-ee3baa83acba"
      },
      "source": [
        "# 1a. Concatenate the two tuples and store it in “t_combine”\n",
        "t_combine = tuple1 + tuple2\n",
        "t_combine"
      ],
      "execution_count": null,
      "outputs": [
        {
          "output_type": "execute_result",
          "data": {
            "text/plain": [
              "(10, 20, 30, 40, 50, 60)"
            ]
          },
          "metadata": {
            "tags": []
          },
          "execution_count": 3
        }
      ]
    },
    {
      "cell_type": "code",
      "metadata": {
        "colab": {
          "base_uri": "https://localhost:8080/"
        },
        "id": "-pUfbfHlCYAP",
        "outputId": "5dad8c8c-1fcb-4c96-9c9e-107a9be1fa1e"
      },
      "source": [
        "# 1b. Repeat the elements of “t_combine” 3 times\n",
        "t_combine = t_combine * 3\n",
        "t_combine"
      ],
      "execution_count": null,
      "outputs": [
        {
          "output_type": "execute_result",
          "data": {
            "text/plain": [
              "(10, 20, 30, 40, 50, 60, 10, 20, 30, 40, 50, 60, 10, 20, 30, 40, 50, 60)"
            ]
          },
          "metadata": {
            "tags": []
          },
          "execution_count": 4
        }
      ]
    },
    {
      "cell_type": "code",
      "metadata": {
        "colab": {
          "base_uri": "https://localhost:8080/"
        },
        "id": "_jrXiNYiC_9Y",
        "outputId": "355d908c-a517-4bdf-f85d-0c6251de8148"
      },
      "source": [
        "# 1c. Access the 3rd element from “t_combine”\n",
        "print(t_combine[3])"
      ],
      "execution_count": null,
      "outputs": [
        {
          "output_type": "stream",
          "text": [
            "40\n"
          ],
          "name": "stdout"
        }
      ]
    },
    {
      "cell_type": "code",
      "metadata": {
        "colab": {
          "base_uri": "https://localhost:8080/"
        },
        "id": "gY33KwNGDAEj",
        "outputId": "04970f45-bf94-4439-e67e-b4e1dc8c8df2"
      },
      "source": [
        "# 1d. Access the first three elements from “t_combine”\n",
        "print(t_combine[:3])"
      ],
      "execution_count": null,
      "outputs": [
        {
          "output_type": "stream",
          "text": [
            "(10, 20, 30)\n"
          ],
          "name": "stdout"
        }
      ]
    },
    {
      "cell_type": "code",
      "metadata": {
        "colab": {
          "base_uri": "https://localhost:8080/"
        },
        "id": "i8jiCJp-CKrA",
        "outputId": "e35600fa-3e98-4dac-afee-f0edcd1b64bf"
      },
      "source": [
        "# 1e. Access the last three elements from “t_combine”\n",
        "length = len(t_combine)\n",
        "print(t_combine[length-3:])"
      ],
      "execution_count": null,
      "outputs": [
        {
          "output_type": "stream",
          "text": [
            "(40, 50, 60)\n"
          ],
          "name": "stdout"
        }
      ]
    },
    {
      "cell_type": "code",
      "metadata": {
        "id": "JVgmwtMJEIUs"
      },
      "source": [
        "# 2. Create a list ‘my_list’ with these elements:\n",
        "# a. First element is a tuple with values 1,2,3\n",
        "# b. Second element is a tuple with values “a”,”b”,”c”\n",
        "# c. Third element is a tuple with values True,False"
      ],
      "execution_count": null,
      "outputs": []
    },
    {
      "cell_type": "code",
      "metadata": {
        "colab": {
          "base_uri": "https://localhost:8080/"
        },
        "id": "UR-Rt34rEIYL",
        "outputId": "5ba1c56e-6cf1-4d85-a34c-591cc19d7a4f"
      },
      "source": [
        "my_list =[(1,2,3),('a','b','c'), (True, False)]\n",
        "my_list"
      ],
      "execution_count": null,
      "outputs": [
        {
          "output_type": "execute_result",
          "data": {
            "text/plain": [
              "[(1, 2, 3), ('a', 'b', 'c'), (True, False)]"
            ]
          },
          "metadata": {
            "tags": []
          },
          "execution_count": 1
        }
      ]
    },
    {
      "cell_type": "code",
      "metadata": {
        "colab": {
          "base_uri": "https://localhost:8080/"
        },
        "id": "NFbhMxjrEIb1",
        "outputId": "0094d2e8-d1d2-4a87-e801-6effce392455"
      },
      "source": [
        "print(my_list[2])"
      ],
      "execution_count": null,
      "outputs": [
        {
          "output_type": "stream",
          "text": [
            "(True, False)\n"
          ],
          "name": "stdout"
        }
      ]
    },
    {
      "cell_type": "code",
      "metadata": {
        "id": "wmMlpXHzEIf0"
      },
      "source": [
        "# 3. Append a new tuple – (1,’a’,True) to ‘my_list’\n",
        "# a. Append a new list – ['sparta',123] to my_list"
      ],
      "execution_count": null,
      "outputs": []
    },
    {
      "cell_type": "code",
      "metadata": {
        "colab": {
          "base_uri": "https://localhost:8080/"
        },
        "id": "jHsJnn0CFAku",
        "outputId": "7ea078cd-ac1f-4a6e-ce7e-14ff59eddf6c"
      },
      "source": [
        "tuple3 = (1,'a',True) \n",
        "my_list.append(tuple3)\n",
        "print(\"After appending tuple3   \", my_list)\n",
        "\n",
        "newList = ['sparta',123]\n",
        "my_list.append(newList)\n",
        "print(\"After appending newList  :\", my_list)"
      ],
      "execution_count": null,
      "outputs": [
        {
          "output_type": "stream",
          "text": [
            "After appending tuple3    [(1, 2, 3), ('a', 'b', 'c'), (True, False), (1, 'a', True), (1, 'a', True)]\n"
          ],
          "name": "stdout"
        }
      ]
    },
    {
      "cell_type": "code",
      "metadata": {
        "id": "oZ68P8dAFAoi"
      },
      "source": [
        "# 4. Create a dictionary ‘fruit’ where:\n",
        "# a. The first key is ‘Fruit’ and the values are (“Apple”,”Banana”,”Mango”,”Guava”)\n",
        "# b. The second key is ‘Cost’ and the values are (85,54,120,70)\n",
        "# c. Extract all the keys from ‘fruit’\n",
        "# d. Extract all the values from ‘fruit’"
      ],
      "execution_count": null,
      "outputs": []
    },
    {
      "cell_type": "code",
      "metadata": {
        "colab": {
          "base_uri": "https://localhost:8080/"
        },
        "id": "LK1zcdEVFArj",
        "outputId": "44786fd0-83f1-4b32-b0c0-9950cab0c549"
      },
      "source": [
        "fruit = {'Fruit' : ('Apple','Banana','Mango','Guava'), 'Cost':(85,54,120,70)}\n",
        "print(\"Fruit Dictionary  :\",fruit)\n",
        "\n",
        "keys = fruit.keys()\n",
        "print(\"Fruit Dictionary keys  :\",keys)\n",
        "\n",
        "values = fruit.values()\n",
        "print(\"Fruit Dictionary  values :\",values)"
      ],
      "execution_count": null,
      "outputs": [
        {
          "output_type": "stream",
          "text": [
            "Fruit Dictionary  : {'Fruit': ('Apple', 'Banana', 'Mango', 'Guava'), 'Cost': (85, 54, 120, 70)}\n",
            "Fruit Dictionary keys  : dict_keys(['Fruit', 'Cost'])\n",
            "Fruit Dictionary  values : dict_values([('Apple', 'Banana', 'Mango', 'Guava'), (85, 54, 120, 70)])\n"
          ],
          "name": "stdout"
        }
      ]
    },
    {
      "cell_type": "code",
      "metadata": {
        "colab": {
          "base_uri": "https://localhost:8080/"
        },
        "id": "HgfP1Iu4zm44",
        "outputId": "7496ae7b-036c-412e-c379-e7ec61df8d73"
      },
      "source": [
        "# 5. Crete a set named ‘my_set’ with values (1,1,”a”,”a”,True,True) and print the result\n",
        "\n",
        "my_set = {1,1,'a','a',True,True}\n",
        "print(\"My Set values  :\",my_set)"
      ],
      "execution_count": null,
      "outputs": [
        {
          "output_type": "stream",
          "text": [
            "My Set values  : {1, 'a'}\n"
          ],
          "name": "stdout"
        }
      ]
    },
    {
      "cell_type": "code",
      "metadata": {
        "colab": {
          "base_uri": "https://localhost:8080/"
        },
        "id": "Sn3fS8vzzm8Y",
        "outputId": "e3e6d3fe-5517-4920-c1e9-2b525c9953f7"
      },
      "source": [
        " x = range(10) \n",
        " print(x)\n",
        " y = sum(x) \n",
        " print(y)"
      ],
      "execution_count": null,
      "outputs": [
        {
          "output_type": "stream",
          "text": [
            "range(0, 10)\n",
            "45\n"
          ],
          "name": "stdout"
        }
      ]
    }
  ]
}